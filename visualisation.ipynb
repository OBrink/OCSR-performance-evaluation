{
 "cells": [
  {
   "cell_type": "code",
   "execution_count": 107,
   "metadata": {},
   "outputs": [],
   "source": [
    "import numpy as np\n",
    "from ocsr_performance_evaluation.cumulative_error_score import calculate_cumulative_error_score\n",
    "import matplotlib.pyplot as plt\n"
   ]
  },
  {
   "attachments": {},
   "cell_type": "markdown",
   "metadata": {},
   "source": [
    "#### Case 1: All values are 0"
   ]
  },
  {
   "cell_type": "code",
   "execution_count": 108,
   "metadata": {},
   "outputs": [
    {
     "name": "stdout",
     "output_type": "stream",
     "text": [
      "Arithmethic mean: 0.0\n",
      "CES: 10000.0\n",
      "mapped CES: 0.0\n"
     ]
    },
    {
     "data": {
      "image/png": "[encoded data removed]",
      "text/plain": [
       "<Figure size 432x288 with 1 Axes>"
      ]
     },
     "metadata": {
      "needs_background": "light"
     },
     "output_type": "display_data"
    }
   ],
   "source": [
    "dist = np.zeros(1000)\n",
    "plt.hist(dist, bins=np.arange(0, 1.01, 0.01))\n",
    "\n",
    "ces = calculate_cumulative_error_score(dist)\n",
    "print(f\"Arithmethic mean: {np.mean(dist)}\")\n",
    "print(f\"CES: {ces}\")\n",
    "print(f\"mapped CES: {round((10000 - ces) / 10000, 3)}\")"
   ]
  },
  {
   "attachments": {},
   "cell_type": "markdown",
   "metadata": {},
   "source": [
    "#### Case 2: All values are 1"
   ]
  },
  {
   "cell_type": "code",
   "execution_count": 109,
   "metadata": {},
   "outputs": [
    {
     "name": "stdout",
     "output_type": "stream",
     "text": [
      "Arithmethic mean: 1.0\n",
      "CES: 0.0\n",
      "mapped CES: 1.0\n"
     ]
    },
    {
     "data": {
      "image/png": "[encoded data removed]",
      "text/plain": [
       "<Figure size 432x288 with 1 Axes>"
      ]
     },
     "metadata": {
      "needs_background": "light"
     },
     "output_type": "display_data"
    }
   ],
   "source": [
    "dist = np.ones(1000)\n",
    "plt.hist(dist, bins=np.arange(0, 1.01, 0.01))\n",
    "\n",
    "ces = calculate_cumulative_error_score(dist)\n",
    "print(f\"Arithmethic mean: {np.mean(dist)}\")\n",
    "print(f\"CES: {ces}\")\n",
    "print(f\"mapped CES: {round((10000 - ces) / 10000, 3)}\")"
   ]
  },
  {
   "attachments": {},
   "cell_type": "markdown",
   "metadata": {},
   "source": [
    "#### Case 3: Progressive distribution"
   ]
  },
  {
   "cell_type": "code",
   "execution_count": 110,
   "metadata": {},
   "outputs": [
    {
     "name": "stdout",
     "output_type": "stream",
     "text": [
      "Arithmethic mean: 0.667\n",
      "CES: 1664.8061838161839\n",
      "mapped CES: 0.834\n"
     ]
    },
    {
     "data": {
      "image/png": "[encoded data removed]",
      "text/plain": [
       "<Figure size 432x288 with 1 Axes>"
      ]
     },
     "metadata": {
      "needs_background": "light"
     },
     "output_type": "display_data"
    }
   ],
   "source": [
    "dist = []\n",
    "value_range = np.arange(0, 1.001, 0.001)\n",
    "for index in range(len(value_range)):\n",
    "    for _ in range(index):\n",
    "        dist.append(value_range[index])\n",
    "\n",
    "plt.hist(dist, bins=value_range)\n",
    "plt.ylim(0, 1000)\n",
    "\n",
    "ces = calculate_cumulative_error_score(dist)\n",
    "print(f\"Arithmethic mean: {np.mean(dist)}\")\n",
    "print(f\"CES: {ces}\")\n",
    "print(f\"mapped CES: {round((10000 - ces) / 10000, 3)}\")"
   ]
  },
  {
   "attachments": {},
   "cell_type": "markdown",
   "metadata": {},
   "source": [
    "#### Case 4: Regressive distribution"
   ]
  },
  {
   "cell_type": "code",
   "execution_count": 111,
   "metadata": {},
   "outputs": [
    {
     "name": "stdout",
     "output_type": "stream",
     "text": [
      "Arithmethic mean: 0.33299999999999924\n",
      "CES: 5011.901838161838\n",
      "mapped CES: 0.499\n"
     ]
    },
    {
     "data": {
      "image/png": "[encoded data removed]",
      "text/plain": [
       "<Figure size 432x288 with 1 Axes>"
      ]
     },
     "metadata": {
      "needs_background": "light"
     },
     "output_type": "display_data"
    }
   ],
   "source": [
    "dist = []\n",
    "value_range = np.arange(1, -0.001, -0.001)\n",
    "for index in range(len(value_range)):\n",
    "    for _ in range(index):\n",
    "        if value_range[index] < 0:\n",
    "            dist.append(0)\n",
    "        elif value_range[index] > 1:\n",
    "            dist.append(1)\n",
    "        else:\n",
    "            dist.append(value_range[index])\n",
    "\n",
    "plt.hist(dist, bins=np.arange(0, 1.001, 0.001))\n",
    "plt.ylim(0, 1000)\n",
    "\n",
    "ces = calculate_cumulative_error_score(dist)\n",
    "print(f\"Arithmethic mean: {np.mean(dist)}\")\n",
    "print(f\"CES: {ces}\")\n",
    "print(f\"mapped CES: {round((10000 - ces) / 10000, 3)}\")"
   ]
  },
  {
   "attachments": {},
   "cell_type": "markdown",
   "metadata": {},
   "source": [
    "#### Case 5: Normal distribution; average = 0.5, std = 0.1"
   ]
  },
  {
   "cell_type": "code",
   "execution_count": 112,
   "metadata": {},
   "outputs": [
    {
     "name": "stdout",
     "output_type": "stream",
     "text": [
      "Arithmethic mean: 0.5005601930087573\n",
      "CES: 2593.8112\n",
      "mapped CES: 0.741\n"
     ]
    },
    {
     "data": {
      "image/png": "[encoded data removed]",
      "text/plain": [
       "<Figure size 432x288 with 1 Axes>"
      ]
     },
     "metadata": {
      "needs_background": "light"
     },
     "output_type": "display_data"
    }
   ],
   "source": [
    "np.random.seed(42)\n",
    "dist = np.random.normal(0.5, 0.1, 5000)\n",
    "dist = [val for val in dist if val >= 0 and val <= 1]\n",
    "\n",
    "plt.hist(dist, bins=np.arange(0, 1.001, 0.001))\n",
    "plt.ylim(0, 30)\n",
    "\n",
    "ces = calculate_cumulative_error_score(dist)\n",
    "print(f\"Arithmethic mean: {np.mean(dist)}\")\n",
    "print(f\"CES: {ces}\")\n",
    "print(f\"mapped CES: {round((10000 - ces) / 10000, 3)}\")"
   ]
  },
  {
   "attachments": {},
   "cell_type": "markdown",
   "metadata": {},
   "source": [
    "#### Case 6: Normal distribution; average = 0.5, std = 0.2"
   ]
  },
  {
   "cell_type": "code",
   "execution_count": 113,
   "metadata": {},
   "outputs": [
    {
     "name": "stdout",
     "output_type": "stream",
     "text": [
      "Arithmethic mean: 0.5017099970365179\n",
      "CES: 2841.981556546413\n",
      "mapped CES: 0.716\n"
     ]
    },
    {
     "data": {
      "image/png": "[encoded data removed]",
      "text/plain": [
       "<Figure size 432x288 with 1 Axes>"
      ]
     },
     "metadata": {
      "needs_background": "light"
     },
     "output_type": "display_data"
    }
   ],
   "source": [
    "np.random.seed(42)\n",
    "dist = np.random.normal(0.5, 0.2, 5000)\n",
    "dist = [val for val in dist if val >= 0 and val <= 1]\n",
    "\n",
    "plt.hist(dist, bins=np.arange(0, 1.001, 0.001))\n",
    "plt.ylim(0, 30)\n",
    "\n",
    "ces = calculate_cumulative_error_score(dist)\n",
    "print(f\"Arithmethic mean: {np.mean(dist)}\")\n",
    "print(f\"CES: {ces}\")\n",
    "print(f\"mapped CES: {round((10000 - ces) / 10000, 3)}\")"
   ]
  },
  {
   "attachments": {},
   "cell_type": "markdown",
   "metadata": {},
   "source": [
    "#### Case 7: Normal distribution; average = 0.5, std = 0.5"
   ]
  },
  {
   "cell_type": "code",
   "execution_count": 114,
   "metadata": {},
   "outputs": [
    {
     "name": "stdout",
     "output_type": "stream",
     "text": [
      "Arithmethic mean: 0.5020435001674866\n",
      "CES: 3208.496363107361\n",
      "mapped CES: 0.679\n"
     ]
    },
    {
     "data": {
      "image/png": "[encoded data removed]",
      "text/plain": [
       "<Figure size 432x288 with 1 Axes>"
      ]
     },
     "metadata": {
      "needs_background": "light"
     },
     "output_type": "display_data"
    }
   ],
   "source": [
    "np.random.seed(42)\n",
    "dist = np.random.normal(0.5, 0.5, 5000)\n",
    "dist = [val for val in dist if val >= 0 and val <= 1]\n",
    "\n",
    "plt.hist(dist, bins=np.arange(0, 1.001, 0.001))\n",
    "plt.ylim(0, 30)\n",
    "\n",
    "ces = calculate_cumulative_error_score(dist)\n",
    "print(f\"Arithmethic mean: {np.mean(dist)}\")\n",
    "print(f\"CES: {ces}\")\n",
    "print(f\"mapped CES: {round((10000 - ces) / 10000, 3)}\")"
   ]
  },
  {
   "cell_type": "code",
   "execution_count": 117,
   "metadata": {},
   "outputs": [
    {
     "name": "stdout",
     "output_type": "stream",
     "text": [
      "Arithmethic mean: 0.28520343722110675\n",
      "CES: 6350.422865109795\n",
      "mapped CES: 0.365\n"
     ]
    },
    {
     "data": {
      "image/png": "[encoded data removed]",
      "text/plain": [
       "<Figure size 432x288 with 1 Axes>"
      ]
     },
     "metadata": {
      "needs_background": "light"
     },
     "output_type": "display_data"
    }
   ],
   "source": [
    "dist = [0] * 8000\n",
    "dist += list(np.random.normal(0.7, 0.3, 4000))\n",
    "dist += list(np.random.normal(0.8, 0.3, 4000))\n",
    "# dist += [1] * 1000\n",
    "dist = [val for val in dist if val >= 0 and val <= 1   ]\n",
    "\n",
    "plt.hist(dist, bins=np.arange(-0.001, 1.001, 0.001))\n",
    "plt.ylim(0, 30)\n",
    "\n",
    "ces = calculate_cumulative_error_score(dist)\n",
    "print(f\"Arithmethic mean: {np.mean(dist)}\")\n",
    "print(f\"CES: {ces}\")\n",
    "print(f\"mapped CES: {round((10000 - ces) / 10000, 3)}\")"
   ]
  }
 ],
 "metadata": {
  "kernelspec": {
   "display_name": "RanDepict",
   "language": "python",
   "name": "python3"
  },
  "language_info": {
   "name": "python",
   "version": "3.7.10"
  },
  "orig_nbformat": 4
 },
 "nbformat": 4,
 "nbformat_minor": 2
}
